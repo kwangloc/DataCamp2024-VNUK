{
 "cells": [
  {
   "cell_type": "markdown",
   "metadata": {
    "id": "VzispUdMj86l"
   },
   "source": [
    "# Workbook for Programming Crashcourse with Python\n",
    "\n",
    "References:\n",
    "\n",
    "- Python course\n",
    "https://programming-23.mooc.fi/\n",
    "\n",
    "- Python course by WiDS\n",
    "https://github.com/keikokamei/WiDS_Datathon_Tutorials/blob/main/01_Intro_to_Jupyter.ipynb\n",
    "\n",
    "I would recommend that you go through the references at your own pace."
   ]
  },
  {
   "cell_type": "markdown",
   "metadata": {
    "id": "eDtdS0BfZPtS"
   },
   "source": [
    "## The Jupyter Notebook\n",
    "A Jupyter Notebook is divided into what are called cells. You can navigate cells by clicking on them or by using the up and down arrows. Cells will be highlighted as you navigate them.\n"
   ]
  },
  {
   "cell_type": "markdown",
   "metadata": {
    "id": "t_gCOu_2Zc5L"
   },
   "source": [
    "### Markdown cells\n",
    "Text cells (like this one) can be edited by double-clicking on them. They're written in a simple format called [Markdown](https://www.markdownguide.org/) to add formatting and section headings."
   ]
  },
  {
   "cell_type": "markdown",
   "metadata": {
    "id": "FW89MI1GZ2Kz"
   },
   "source": [
    "\n",
    "## Code cells\n",
    "Other cells, like the one below, contain code in the Python.We'll explain what exactly we mean by \"expressions\" in just a moment - first, let's learn how to \"run\" cells.\n",
    "\n",
    "## Running cells\n",
    "\"Running a cell\" is equivalent to pressing \"Enter\" on a calculator once you've typed in the expression you want to evaluate: it produces a result. When you run a text cell, it outputs clean, organized writing. When you run a code cell, it computes all of the expressions you want to evaluate, and can output the result of the computation if there is anything to return.\n",
    "\n",
    ">   To run the code in a cell, first click on that cell. It'll become highlighted with a green or blue border. Next, you can either click the ▶ Run  button above, or press Shift + Return / Shift + Enter. This will run the current cell and select the next one.\n",
    "\n",
    "\n",
    "Text cells are useful for taking notes and keeping your notebook organized, but your data analysis will be done in code cells. We will focus on code cells for the remainder of the notebook.\n"
   ]
  },
  {
   "cell_type": "code",
   "execution_count": 1,
   "metadata": {
    "id": "D1hEqbRlaHUI"
   },
   "outputs": [
    {
     "name": "stdout",
     "output_type": "stream",
     "text": [
      "Hello, World!\n"
     ]
    }
   ],
   "source": [
    "# Run this cell!\n",
    "\n",
    "print(\"Hello, World!\")\n"
   ]
  },
  {
   "cell_type": "markdown",
   "metadata": {
    "id": "bamPc2ZUm-2P"
   },
   "source": [
    "### 1. Getting Started"
   ]
  },
  {
   "cell_type": "markdown",
   "metadata": {
    "id": "Lrm5SYR7kk_u"
   },
   "source": [
    "1.1. How do you print \"Hello Data\" to the screen?"
   ]
  },
  {
   "cell_type": "code",
   "execution_count": null,
   "metadata": {
    "colab": {
     "base_uri": "https://localhost:8080/"
    },
    "executionInfo": {
     "elapsed": 585,
     "status": "ok",
     "timestamp": 1731667241506,
     "user": {
      "displayName": "Gia Ngo",
      "userId": "10487874870828670874"
     },
     "user_tz": -420
    },
    "id": "NmpPIxb_josW",
    "outputId": "c9e0e354-7d7f-4e1e-da06-1129d439a77f"
   },
   "outputs": [
    {
     "name": "stdout",
     "output_type": "stream",
     "text": [
      "Hello Data\n"
     ]
    }
   ],
   "source": [
    "print(\"Hello Data\")"
   ]
  },
  {
   "cell_type": "markdown",
   "metadata": {
    "id": "qJYC8B5JmI2k"
   },
   "source": [
    "1.2. How do you print \"Hello Data\" 3 times?"
   ]
  },
  {
   "cell_type": "code",
   "execution_count": null,
   "metadata": {
    "colab": {
     "base_uri": "https://localhost:8080/"
    },
    "id": "SJrgGfvhmNAO",
    "outputId": "812e67cc-43bb-4393-8982-e5f353012b8f"
   },
   "outputs": [
    {
     "name": "stdout",
     "output_type": "stream",
     "text": [
      "Hello World Hello World Hello World \n"
     ]
    }
   ],
   "source": [
    "print(\"Hello Data \" * 3)"
   ]
  },
  {
   "cell_type": "markdown",
   "metadata": {
    "id": "ZKewj0pUmNf7"
   },
   "source": [
    "1.3. How do you print \"Hello [Your Name]\" to the screen with [Your Name] replaced by your actual name?"
   ]
  },
  {
   "cell_type": "code",
   "execution_count": null,
   "metadata": {
    "colab": {
     "base_uri": "https://localhost:8080/"
    },
    "id": "2YEdABU_mqvv",
    "outputId": "ab39b3e6-aeba-4725-b9e1-3c29d6bbb709"
   },
   "outputs": [
    {
     "name": "stdout",
     "output_type": "stream",
     "text": [
      "Hello Gia\n",
      "Hello Gia Gia Gia\n"
     ]
    }
   ],
   "source": [
    "name = \"Gia\"\n",
    "print(\"Hello \" + name)\n",
    "print(\"Hello\", name, name, name)"
   ]
  },
  {
   "cell_type": "markdown",
   "metadata": {
    "id": "TdT2HG3Nm1j5"
   },
   "source": [
    "1.4. Why and when do you use comment in your code?"
   ]
  },
  {
   "cell_type": "code",
   "execution_count": null,
   "metadata": {
    "colab": {
     "base_uri": "https://localhost:8080/"
    },
    "id": "VjSocgBZm9uk",
    "outputId": "8ed2bad4-25a6-444d-9b56-01657231470f"
   },
   "outputs": [
    {
     "name": "stdout",
     "output_type": "stream",
     "text": [
      "Nga\n"
     ]
    }
   ],
   "source": [
    "name = \"Nga\" # TODO (Gia) change this variable\n",
    "\n",
    "print(name)"
   ]
  },
  {
   "cell_type": "markdown",
   "metadata": {
    "id": "UwY7UE-DtEY3"
   },
   "source": [
    "### 2. More on Variables"
   ]
  },
  {
   "cell_type": "markdown",
   "metadata": {
    "id": "r5vB4XdatMcz"
   },
   "source": [
    "2.1. What would be output of the following?"
   ]
  },
  {
   "cell_type": "code",
   "execution_count": 4,
   "metadata": {
    "colab": {
     "base_uri": "https://localhost:8080/"
    },
    "id": "jWfGGktPtLNq",
    "outputId": "3dc18a96-d1d1-43b6-b9db-74022cc2ae74"
   },
   "outputs": [
    {
     "name": "stdout",
     "output_type": "stream",
     "text": [
      "268\n",
      "123123\n",
      "123123\n",
      "246\n"
     ]
    }
   ],
   "source": [
    "number1 = 134\n",
    "number2 = \"123\"\n",
    "\n",
    "print(number1 + number1)\n",
    "print(number2 + number2)\n",
    "print(number2 + number2)\n",
    "print(int(number2) + int(number2))"
   ]
  },
  {
   "cell_type": "markdown",
   "metadata": {
    "id": "sKIoVstQthS0"
   },
   "source": [
    "2.2. What would be the output of the following?"
   ]
  },
  {
   "cell_type": "code",
   "execution_count": 5,
   "metadata": {
    "colab": {
     "base_uri": "https://localhost:8080/",
     "height": 160
    },
    "id": "7k7HiD7HtkQN",
    "outputId": "1fbcdc19-3faa-429e-fce4-ec0e0e3e402b"
   },
   "outputs": [
    {
     "ename": "TypeError",
     "evalue": "unsupported operand type(s) for /: 'str' and 'int'",
     "output_type": "error",
     "traceback": [
      "\u001b[1;31m---------------------------------------------------------------------------\u001b[0m",
      "\u001b[1;31mTypeError\u001b[0m                                 Traceback (most recent call last)",
      "Cell \u001b[1;32mIn[5], line 2\u001b[0m\n\u001b[0;32m      1\u001b[0m number \u001b[38;5;241m=\u001b[39m \u001b[38;5;124m\"\u001b[39m\u001b[38;5;124m135\u001b[39m\u001b[38;5;124m\"\u001b[39m\n\u001b[1;32m----> 2\u001b[0m \u001b[38;5;28mprint\u001b[39m(\u001b[43mnumber\u001b[49m\u001b[43m \u001b[49m\u001b[38;5;241;43m/\u001b[39;49m\u001b[43m \u001b[49m\u001b[38;5;241;43m2\u001b[39;49m)\n",
      "\u001b[1;31mTypeError\u001b[0m: unsupported operand type(s) for /: 'str' and 'int'"
     ]
    }
   ],
   "source": [
    "number = \"135\"\n",
    "print(number / 2)"
   ]
  },
  {
   "cell_type": "markdown",
   "metadata": {
    "id": "DWUq3r9rttCs"
   },
   "source": [
    "2.3. What would be the output of the following?"
   ]
  },
  {
   "cell_type": "code",
   "execution_count": 6,
   "metadata": {
    "colab": {
     "base_uri": "https://localhost:8080/"
    },
    "id": "_7jbncJAtrgD",
    "outputId": "25515851-4190-4903-b699-b1011f7e96dc"
   },
   "outputs": [
    {
     "name": "stdout",
     "output_type": "stream",
     "text": [
      "The result is 250\n"
     ]
    }
   ],
   "source": [
    "result = 10 * 25\n",
    "print(\"The result is\", result)"
   ]
  },
  {
   "cell_type": "markdown",
   "metadata": {
    "id": "qhHnfi8Nt-2C"
   },
   "source": [
    "2.4. What are the results of the following?"
   ]
  },
  {
   "cell_type": "code",
   "execution_count": 7,
   "metadata": {
    "id": "SZxU6ajJuT2_"
   },
   "outputs": [
    {
     "name": "stdout",
     "output_type": "stream",
     "text": [
      "15\n",
      "12.5\n",
      "17\n",
      "1\n",
      "27\n"
     ]
    }
   ],
   "source": [
    "print(3 + 3 * 4)\n",
    "print(25 / 2)\n",
    "print(35 // 2)\n",
    "print(35 % 2)\n",
    "print(3**3)"
   ]
  },
  {
   "cell_type": "markdown",
   "metadata": {
    "id": "etGmQxR-uovL"
   },
   "source": [
    "### 3. Conditional"
   ]
  },
  {
   "cell_type": "markdown",
   "metadata": {
    "id": "RrM-lyIhu0HL"
   },
   "source": [
    "3.1. What's the output here?"
   ]
  },
  {
   "cell_type": "code",
   "execution_count": null,
   "metadata": {
    "colab": {
     "base_uri": "https://localhost:8080/"
    },
    "id": "IWPs4Ke7unya",
    "outputId": "4ef06f2a-923e-4fc7-e9ec-ab4f19e0301d"
   },
   "outputs": [
    {
     "name": "stdout",
     "output_type": "stream",
     "text": [
      "Baby\n",
      "Shark\n"
     ]
    }
   ],
   "source": [
    "age = 2\n",
    "if age < 3:\n",
    "    print(\"Baby\")\n",
    "    print(\"Shark\")\n",
    "else:\n",
    "  print(\"Doo doo\")"
   ]
  },
  {
   "cell_type": "markdown",
   "metadata": {
    "id": "Xrg6DiAWu9ty"
   },
   "source": [
    "3.2. This?"
   ]
  },
  {
   "cell_type": "code",
   "execution_count": null,
   "metadata": {
    "colab": {
     "base_uri": "https://localhost:8080/"
    },
    "id": "YKk4JoGswUDa",
    "outputId": "9b0cd1c1-605d-413a-f219-f84ec48940ba"
   },
   "outputs": [
    {
     "name": "stdout",
     "output_type": "stream",
     "text": [
      "Too much energy, too much time\n"
     ]
    }
   ],
   "source": [
    "age = 20\n",
    "if age <= 22:\n",
    "  print(\"Too much energy, too much time\")\n",
    "else:\n",
    "  print(\"Too much energy, too little time\")"
   ]
  },
  {
   "cell_type": "markdown",
   "metadata": {
    "id": "-6u0bKfkvR0S"
   },
   "source": [
    "3.3. Where's the error:\n"
   ]
  },
  {
   "cell_type": "code",
   "execution_count": null,
   "metadata": {
    "colab": {
     "base_uri": "https://localhost:8080/"
    },
    "id": "P_oHc6RYvcjx",
    "outputId": "3b5797ac-9a56-419c-e2f7-dfd7a62e981e"
   },
   "outputs": [
    {
     "name": "stdout",
     "output_type": "stream",
     "text": [
      "Children\n"
     ]
    }
   ],
   "source": [
    "age = 4\n",
    "if age < 3:\n",
    "  print(\"Baby\")\n",
    "elif age < 12:\n",
    "  print(\"Children\")"
   ]
  },
  {
   "cell_type": "markdown",
   "metadata": {
    "id": "ZdvGSbPxvavW"
   },
   "source": [
    "3.4. Write a program to check if a variable `number` is odd or even"
   ]
  },
  {
   "cell_type": "code",
   "execution_count": null,
   "metadata": {
    "colab": {
     "base_uri": "https://localhost:8080/"
    },
    "id": "ItZR2fg1vyq6",
    "outputId": "3559b134-ff1d-4f72-fe35-5c01d6dc122f"
   },
   "outputs": [
    {
     "name": "stdout",
     "output_type": "stream",
     "text": [
      "Odd\n"
     ]
    }
   ],
   "source": [
    "number = 23\n",
    "\n",
    "if number % 2 == 0:\n",
    "  print(\"Even\")\n",
    "else:\n",
    "  print(\"Odd\")"
   ]
  },
  {
   "cell_type": "markdown",
   "metadata": {
    "id": "yC2yLWqPw-ZP"
   },
   "source": [
    "3.5. Write a program to print out the grade of a person according to the following criteria:\n",
    "\n",
    "*   less than 50: C\n",
    "*   between 50 and 80: B\n",
    "*   between 80 and 90: A\n",
    "*   above 90: A+\n",
    "\n",
    "Hint: do you have enough information to write a program?\n"
   ]
  },
  {
   "cell_type": "code",
   "execution_count": null,
   "metadata": {
    "id": "oYa_UnVc4Pk3"
   },
   "outputs": [],
   "source": []
  },
  {
   "cell_type": "markdown",
   "metadata": {
    "id": "TTVahLvlx5gB"
   },
   "source": [
    "### 4. Loop"
   ]
  },
  {
   "cell_type": "markdown",
   "metadata": {
    "id": "HbCX_G8X0bAQ"
   },
   "source": [
    "4.1. What would be the output here:"
   ]
  },
  {
   "cell_type": "code",
   "execution_count": null,
   "metadata": {
    "colab": {
     "base_uri": "https://localhost:8080/"
    },
    "id": "BQro8AbM0UER",
    "outputId": "44213bfd-a818-45ff-951e-b4fa7e7ea010"
   },
   "outputs": [
    {
     "name": "stdout",
     "output_type": "stream",
     "text": [
      "[2, 5, 5, 6]\n",
      "4\n",
      "3\n",
      "6\n"
     ]
    }
   ],
   "source": [
    "numbers = [2, 5, 5, 6]\n",
    "print(numbers)\n",
    "print(len(numbers))\n",
    "print(len(numbers)-1)\n",
    "print(numbers[len(numbers)-1]) # numbers[3]"
   ]
  },
  {
   "cell_type": "code",
   "execution_count": null,
   "metadata": {
    "colab": {
     "base_uri": "https://localhost:8080/"
    },
    "id": "4B2kc4D6k-8A",
    "outputId": "2913153f-35ba-44d9-cd04-0eaed4017619"
   },
   "outputs": [
    {
     "name": "stdout",
     "output_type": "stream",
     "text": [
      "5\n",
      "cherries\n"
     ]
    }
   ],
   "source": [
    "fruits = [\"banana\", \"apple\", \"orange\", \"grape\", \"cherries\"]\n",
    "print(len(fruits))\n",
    "\n",
    "index = len(fruits)-1\n",
    "print(fruits[index])"
   ]
  },
  {
   "cell_type": "markdown",
   "metadata": {
    "id": "D5OSY8Kk0jpX"
   },
   "source": [
    "4.2. What would be the output here:"
   ]
  },
  {
   "cell_type": "code",
   "execution_count": null,
   "metadata": {
    "colab": {
     "base_uri": "https://localhost:8080/"
    },
    "id": "FhpRNyWL0ng7",
    "outputId": "aa499a47-16fd-4164-9b52-eca46fcbd9b6"
   },
   "outputs": [
    {
     "name": "stdout",
     "output_type": "stream",
     "text": [
      "banana tastes nice\n",
      "apple tastes nice\n",
      "orange tastes nice\n",
      "grape tastes nice\n",
      "cherries tastes nice\n"
     ]
    }
   ],
   "source": [
    "all_fruits = [\"banana\", \"apple\", \"orange\", \"grape\", \"cherries\"]\n",
    "\n",
    "for fruit in all_fruits:\n",
    "  print(fruit, \"tastes nice\")"
   ]
  },
  {
   "cell_type": "markdown",
   "metadata": {
    "id": "i1qfUvWH01Gz"
   },
   "source": [
    "4.4. How can we print all the numbers from 0 to 5?"
   ]
  },
  {
   "cell_type": "code",
   "execution_count": null,
   "metadata": {
    "colab": {
     "base_uri": "https://localhost:8080/"
    },
    "id": "aF_Po61D07eb",
    "outputId": "13762f64-a7cb-40ab-dd3d-690267d42fe0"
   },
   "outputs": [
    {
     "name": "stdout",
     "output_type": "stream",
     "text": [
      "0\n",
      "1\n",
      "2\n",
      "3\n",
      "4\n",
      "5\n"
     ]
    }
   ],
   "source": [
    "# method 1\n",
    "print(0)\n",
    "print(1)\n",
    "print(2)\n",
    "print(3)\n",
    "print(4)\n",
    "print(5)"
   ]
  },
  {
   "cell_type": "code",
   "execution_count": null,
   "metadata": {
    "colab": {
     "base_uri": "https://localhost:8080/"
    },
    "id": "Jzwmz2mcnKUQ",
    "outputId": "9b71afc4-fd3a-42eb-807d-5dc0af928d38"
   },
   "outputs": [
    {
     "name": "stdout",
     "output_type": "stream",
     "text": [
      "0\n",
      "1\n",
      "2\n",
      "3\n",
      "4\n",
      "5\n"
     ]
    }
   ],
   "source": [
    "numbers = [0, 1, 2, 3, 4, 5]\n",
    "for num in numbers:\n",
    "  print(num)"
   ]
  },
  {
   "cell_type": "code",
   "execution_count": null,
   "metadata": {
    "colab": {
     "base_uri": "https://localhost:8080/"
    },
    "id": "C50z4JIFnlbK",
    "outputId": "9efab1a2-9b7c-4bdb-f039-9642dc43b224"
   },
   "outputs": [
    {
     "name": "stdout",
     "output_type": "stream",
     "text": [
      "0\n",
      "1\n",
      "2\n",
      "3\n",
      "4\n",
      "5\n"
     ]
    }
   ],
   "source": [
    "numbers = range(0, 6)\n",
    "for num in numbers:\n",
    "  print(num)"
   ]
  },
  {
   "cell_type": "code",
   "execution_count": null,
   "metadata": {
    "colab": {
     "base_uri": "https://localhost:8080/"
    },
    "id": "V0jp-3RVsMuu",
    "outputId": "ee21fb0b-6e5b-435e-aa24-94ed5c4afa57"
   },
   "outputs": [
    {
     "name": "stdout",
     "output_type": "stream",
     "text": [
      " 0\n",
      " 0 1\n",
      " 0 1 2\n",
      " 0 1 2 3\n",
      " 0 1 2 3 4\n",
      " 0 1 2 3 4 5\n"
     ]
    }
   ],
   "source": [
    "number_string = \"\"\n",
    "for num in numbers:\n",
    "  number_string = number_string + \" \" + str(num)\n",
    "  print(number_string)"
   ]
  },
  {
   "cell_type": "markdown",
   "metadata": {
    "id": "JGiXj7DK06tE"
   },
   "source": [
    "4.5. How can we print all the odd numbers between 0 and 20?"
   ]
  },
  {
   "cell_type": "code",
   "execution_count": null,
   "metadata": {
    "colab": {
     "base_uri": "https://localhost:8080/"
    },
    "id": "OeuXtmzM0_qr",
    "outputId": "cbd81203-fb60-4c12-ecb0-eb55251e5013"
   },
   "outputs": [
    {
     "name": "stdout",
     "output_type": "stream",
     "text": [
      "1\n",
      "3\n",
      "5\n",
      "7\n",
      "9\n",
      "11\n",
      "13\n",
      "15\n",
      "17\n",
      "19\n"
     ]
    }
   ],
   "source": [
    "for num in range(0, 21):\n",
    "  if num % 2 == 1:\n",
    "    print(num)"
   ]
  },
  {
   "cell_type": "markdown",
   "metadata": {
    "id": "fPlJmvIP2OZE"
   },
   "source": [
    "### 5. Functions"
   ]
  },
  {
   "cell_type": "code",
   "execution_count": null,
   "metadata": {
    "colab": {
     "base_uri": "https://localhost:8080/"
    },
    "id": "u3gRn73uqwaL",
    "outputId": "0ec6ad6e-5273-48ea-86db-97b23a2ffd1a"
   },
   "outputs": [
    {
     "name": "stdout",
     "output_type": "stream",
     "text": [
      "True\n",
      "False\n"
     ]
    }
   ],
   "source": [
    "def is_odd(number):\n",
    "  if number % 2 == 1:\n",
    "    return True\n",
    "  else:\n",
    "    return False\n",
    "\n",
    "print(is_odd(23))\n",
    "print(is_odd(46))"
   ]
  },
  {
   "cell_type": "markdown",
   "metadata": {
    "id": "XzEgg2LM2Q1T"
   },
   "source": [
    "5.1. What's the output here?"
   ]
  },
  {
   "cell_type": "code",
   "execution_count": null,
   "metadata": {
    "id": "HXmxWIUi2QQ1"
   },
   "outputs": [],
   "source": [
    "hours = 3\n",
    "\n",
    "def number_of_minutes(hours):\n",
    "  MINUTES_PER_HOUR = 60\n",
    "  return hours * MINUTES_PER_HOUR\n",
    "\n",
    "print(number_of_minutes(hour))"
   ]
  },
  {
   "cell_type": "markdown",
   "metadata": {
    "id": "9cCxAa_p2uy6"
   },
   "source": [
    "5.2. Write a function to return the number of hours for a given number of days"
   ]
  },
  {
   "cell_type": "code",
   "execution_count": null,
   "metadata": {
    "id": "s0UW-XNt23-0"
   },
   "outputs": [],
   "source": [
    "days = 7"
   ]
  },
  {
   "cell_type": "markdown",
   "metadata": {
    "id": "goOvq1-b28MW"
   },
   "source": []
  },
  {
   "cell_type": "markdown",
   "metadata": {
    "id": "6nCRLhBO5Zy4"
   },
   "source": [
    "### 6. Take-home project"
   ]
  },
  {
   "cell_type": "markdown",
   "metadata": {
    "id": "jebemFkn5fOZ"
   },
   "source": [
    "6.1. You are given a series of monthly sales revenue (in thousand USD), write a series of functions to compute the following descriptive statistics:\n",
    "- Mean\n",
    "- Median\n",
    "- Mode\n",
    "- Variance\n",
    "- Standard deviation\n",
    "- Count\n",
    "- Range"
   ]
  },
  {
   "cell_type": "code",
   "execution_count": 20,
   "metadata": {
    "id": "4TO6wch65cEp"
   },
   "outputs": [],
   "source": [
    "sales_revenue = [\n",
    "    150, 200, 210, 190, 170, 220, 250, 230, 210, 180, 170, 160, 300, 190, 175, 160, 140, 240, 260, 300, 310, 330, 290, 210\n",
    "]"
   ]
  },
  {
   "cell_type": "code",
   "execution_count": null,
   "metadata": {},
   "outputs": [],
   "source": [
    "def mean(sales_revenue):\n",
    "    sum = 0\n",
    "    print(len(sales_revenue))\n",
    "    # mean \n",
    "    for i in sales_revenue:\n",
    "        sum += i\n",
    "    print(f\"mean: {sum/len(sales_revenue)}\")\n",
    "    "
   ]
  },
  {
   "cell_type": "code",
   "execution_count": null,
   "metadata": {},
   "outputs": [],
   "source": [
    "def median(sales_revenue):\n",
    "    sales_revenue.sort()\n",
    "    # median \n",
    "    median = 0\n",
    "    pivot = 0\n",
    "    if len(sales_revenue) % 2 != 0:\n",
    "        pivot = len(sales_revenue)//2 + 1\n",
    "        print(f\"pivot: {pivot}\")\n",
    "        median = sales_revenue[pivot-1]\n",
    "    else:\n",
    "        pivot = len(sales_revenue)//2\n",
    "        median = (sales_revenue[pivot] + sales_revenue[pivot + 1])/2\n",
    "    print(f\"median: {median}\")\n",
    "    # variance\n",
    "    # sd\n",
    "    # count \n",
    "    # range"
   ]
  },
  {
   "cell_type": "code",
   "execution_count": null,
   "metadata": {},
   "outputs": [],
   "source": [
    "def median(sales_revenue):\n",
    "    # variance\n",
    "    # sd\n",
    "    # count \n",
    "    # range"
   ]
  },
  {
   "cell_type": "code",
   "execution_count": 23,
   "metadata": {},
   "outputs": [
    {
     "name": "stdout",
     "output_type": "stream",
     "text": [
      "24\n",
      "mean: 218.54166666666666\n",
      "median: 210.0\n"
     ]
    }
   ],
   "source": [
    "prob_6_1(sales_revenue)"
   ]
  },
  {
   "cell_type": "code",
   "execution_count": 24,
   "metadata": {},
   "outputs": [
    {
     "name": "stdout",
     "output_type": "stream",
     "text": [
      "5\n",
      "mean: 4.4\n",
      "pivot: 3\n",
      "median: 5\n"
     ]
    }
   ],
   "source": [
    "sales_revenue_tmp = [1, 3, 5, 6, 7]\n",
    "prob_6_1(sales_revenue_tmp)"
   ]
  },
  {
   "cell_type": "markdown",
   "metadata": {
    "id": "rUbjjm356Sts"
   },
   "source": [
    "6.2. You have a dataset of product categories sold in a department store. Calculate descriptive statistics describing the data:\n",
    "- Total number of products sold\n",
    "- Unique product categories\n",
    "- Frequencies of each product category\n",
    "- Most frequently sold product category"
   ]
  },
  {
   "cell_type": "code",
   "execution_count": null,
   "metadata": {
    "id": "KPExzbKK7Pvs"
   },
   "outputs": [],
   "source": [
    "product_categories = [\n",
    "    \"Electronics\", \"Clothing\", \"Electronics\", \"Home & Garden\", \"Clothing\", \"Beauty\",\n",
    "    \"Clothing\", \"Electronics\", \"Toys\", \"Home & Garden\", \"Clothing\", \"Clothing\",\n",
    "    \"Beauty\", \"Electronics\", \"Toys\", \"Clothing\", \"Electronics\", \"Home & Garden\",  \"Electronics\", \"Clothing\", \"Beauty\", \"Toys\"\n",
    "]"
   ]
  }
 ],
 "metadata": {
  "colab": {
   "provenance": []
  },
  "kernelspec": {
   "display_name": "Python 3",
   "name": "python3"
  },
  "language_info": {
   "codemirror_mode": {
    "name": "ipython",
    "version": 3
   },
   "file_extension": ".py",
   "mimetype": "text/x-python",
   "name": "python",
   "nbconvert_exporter": "python",
   "pygments_lexer": "ipython3",
   "version": "3.12.5"
  }
 },
 "nbformat": 4,
 "nbformat_minor": 0
}
